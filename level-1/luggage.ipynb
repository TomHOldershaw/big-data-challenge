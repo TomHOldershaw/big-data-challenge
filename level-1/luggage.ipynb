{
  "cells": [
    {
      "cell_type": "code",
      "execution_count": 1,
      "metadata": {
        "colab": {
          "base_uri": "https://localhost:8080/"
        },
        "id": "6mx2snOTPccK",
        "outputId": "b4eec4d9-0d67-4b92-917f-92c9335aab67"
      },
      "outputs": [
        {
          "name": "stdout",
          "output_type": "stream",
          "text": [
            "Requirement already satisfied: boto3 in /usr/local/lib/python3.7/dist-packages (1.20.13)\n",
            "Requirement already satisfied: jmespath<1.0.0,>=0.7.1 in /usr/local/lib/python3.7/dist-packages (from boto3) (0.10.0)\n",
            "Requirement already satisfied: botocore<1.24.0,>=1.23.13 in /usr/local/lib/python3.7/dist-packages (from boto3) (1.23.13)\n",
            "Requirement already satisfied: s3transfer<0.6.0,>=0.5.0 in /usr/local/lib/python3.7/dist-packages (from boto3) (0.5.0)\n",
            "Requirement already satisfied: python-dateutil<3.0.0,>=2.1 in /usr/local/lib/python3.7/dist-packages (from botocore<1.24.0,>=1.23.13->boto3) (2.8.2)\n",
            "Requirement already satisfied: urllib3<1.27,>=1.25.4 in /usr/local/lib/python3.7/dist-packages (from botocore<1.24.0,>=1.23.13->boto3) (1.26.7)\n",
            "Requirement already satisfied: six>=1.5 in /usr/local/lib/python3.7/dist-packages (from python-dateutil<3.0.0,>=2.1->botocore<1.24.0,>=1.23.13->boto3) (1.15.0)\n"
          ]
        }
      ],
      "source": [
        "!pip install boto3"
      ]
    },
    {
      "cell_type": "code",
      "execution_count": 2,
      "metadata": {
        "id": "jOcOp36tNyCX"
      },
      "outputs": [],
      "source": [
        "# Initial imports\n",
        "import os\n",
        "import io\n",
        "import json\n",
        "import numpy as np\n",
        "import pandas as pd\n",
        "import boto3"
      ]
    },
    {
      "cell_type": "code",
      "execution_count": 2,
      "metadata": {
        "id": "r6TxU1KlORLa"
      },
      "outputs": [],
      "source": []
    },
    {
      "cell_type": "code",
      "execution_count": 3,
      "metadata": {
        "colab": {
          "base_uri": "https://localhost:8080/"
        },
        "id": "xoaJvY79PrlL",
        "outputId": "b7603e87-7352-466b-c4ff-903601dfb304"
      },
      "outputs": [
        {
          "name": "stdout",
          "output_type": "stream",
          "text": [
            "\r0% [Working]\r            \rHit:1 http://ppa.launchpad.net/c2d4u.team/c2d4u4.0+/ubuntu bionic InRelease\n",
            "\r0% [Waiting for headers] [Waiting for headers] [Connected to cloud.r-project.or\r                                                                               \rHit:2 http://archive.ubuntu.com/ubuntu bionic InRelease\n",
            "\r                                                                               \rGet:3 http://security.ubuntu.com/ubuntu bionic-security InRelease [88.7 kB]\n",
            "\r0% [Waiting for headers] [3 InRelease 14.2 kB/88.7 kB 16%] [Connected to cloud.\r0% [1 InRelease gpgv 15.9 kB] [Waiting for headers] [3 InRelease 14.2 kB/88.7 k\r                                                                               \rGet:4 http://archive.ubuntu.com/ubuntu bionic-updates InRelease [88.7 kB]\n",
            "\r0% [1 InRelease gpgv 15.9 kB] [4 InRelease 14.2 kB/88.7 kB 16%] [3 InRelease 14\r                                                                               \rHit:5 http://ppa.launchpad.net/cran/libgit2/ubuntu bionic InRelease\n",
            "\r0% [1 InRelease gpgv 15.9 kB] [4 InRelease 14.2 kB/88.7 kB 16%] [3 InRelease 34\r0% [1 InRelease gpgv 15.9 kB] [4 InRelease 38.8 kB/88.7 kB 44%] [Waiting for he\r                                                                               \rHit:6 http://ppa.launchpad.net/deadsnakes/ppa/ubuntu bionic InRelease\n",
            "\r0% [1 InRelease gpgv 15.9 kB] [4 InRelease 54.7 kB/88.7 kB 62%] [Waiting for he\r0% [1 InRelease gpgv 15.9 kB] [Waiting for headers] [Waiting for headers] [Conn\r                                                                               \rGet:7 http://archive.ubuntu.com/ubuntu bionic-backports InRelease [74.6 kB]\n",
            "Hit:8 http://ppa.launchpad.net/graphics-drivers/ppa/ubuntu bionic InRelease\n",
            "Ign:9 https://developer.download.nvidia.com/compute/cuda/repos/ubuntu1804/x86_64  InRelease\n",
            "Hit:10 https://cloud.r-project.org/bin/linux/ubuntu bionic-cran40/ InRelease\n",
            "Ign:11 https://developer.download.nvidia.com/compute/machine-learning/repos/ubuntu1804/x86_64  InRelease\n",
            "Hit:12 https://developer.download.nvidia.com/compute/cuda/repos/ubuntu1804/x86_64  Release\n",
            "Hit:13 https://developer.download.nvidia.com/compute/machine-learning/repos/ubuntu1804/x86_64  Release\n",
            "Get:14 http://archive.ubuntu.com/ubuntu bionic-updates/main amd64 Packages [2,868 kB]\n",
            "Get:15 http://archive.ubuntu.com/ubuntu bionic-updates/universe amd64 Packages [2,224 kB]\n",
            "Fetched 5,343 kB in 2s (2,919 kB/s)\n",
            "Reading package lists... Done\n"
          ]
        }
      ],
      "source": [
        "# Find the latest version of spark 3.0  from http://www.apache.org/dist/spark/ and enter as the spark version\n",
        "spark_version = \"spark-3.2.0\"\n",
        "os.environ['SPARK_VERSION']=spark_version\n",
        "\n",
        "# Install Spark and Java\n",
        "!apt-get update\n",
        "!apt-get install openjdk-8-jdk-headless -qq > /dev/null\n",
        "!wget -q http://www.apache.org/dist/spark/$SPARK_VERSION/$SPARK_VERSION-bin-hadoop2.7.tgz\n",
        "!tar xf $SPARK_VERSION-bin-hadoop2.7.tgz\n",
        "!pip install -q findspark\n",
        "\n",
        "# Set Environment Variables\n",
        "os.environ[\"JAVA_HOME\"] = \"/usr/lib/jvm/java-8-openjdk-amd64\"\n",
        "os.environ[\"SPARK_HOME\"] = f\"/content/{spark_version}-bin-hadoop2.7\"\n",
        "\n",
        "# Start a SparkSession\n",
        "import findspark\n",
        "findspark.init()"
      ]
    },
    {
      "cell_type": "code",
      "execution_count": 4,
      "metadata": {
        "id": "9finE7JjRCbI"
      },
      "outputs": [],
      "source": [
        "# Start Spark session\n",
        "from pyspark.sql import SparkSession\n",
        "spark = SparkSession.builder.appName(\"Luggage\").config(\"spark.driver.extraClassPath\",\"/content/postgresql-42.2.9.jar\").getOrCreate()"
      ]
    },
    {
      "cell_type": "code",
      "execution_count": 5,
      "metadata": {
        "colab": {
          "base_uri": "https://localhost:8080/"
        },
        "id": "qhHsF2p2QZTQ",
        "outputId": "b2d89f09-f305-4cf7-f9fc-f2eed46d02cc"
      },
      "outputs": [
        {
          "name": "stdout",
          "output_type": "stream",
          "text": [
            "+-----------+-----------+--------------+----------+--------------+--------------------+----------------+-----------+-------------+-----------+----+-----------------+--------------------+--------------------+-----------+\n",
            "|marketplace|customer_id|     review_id|product_id|product_parent|       product_title|product_category|star_rating|helpful_votes|total_votes|vine|verified_purchase|     review_headline|         review_body|review_date|\n",
            "+-----------+-----------+--------------+----------+--------------+--------------------+----------------+-----------+-------------+-----------+----+-----------------+--------------------+--------------------+-----------+\n",
            "|         US|   40884699| R9CO86UUJCAW5|B00VGTN02Y|     786681372|Teenage Mutant Ni...|         Luggage|          3|            0|          0|   N|                Y|my review of this...|my review of this...| 2015-08-31|\n",
            "|         US|   23208852|R3PR8X6QGVJ8B1|B005KIWL0E|     618251799|Kenneth Cole Reac...|         Luggage|          5|            0|          0|   N|                Y|          Five Stars|       Perfect size.| 2015-08-31|\n",
            "|         US|   17100246|R39BO2819ABUPF|B007UNSHJ6|     810480328|American Touriste...|         Luggage|          4|            0|          0|   N|                Y|            so good.|    So far, so good.| 2015-08-31|\n",
            "|         US|   13533670|R3ADL7V6EGGEEP|B00WHFNXB4|      20765193|15.5 Inch Purple ...|         Luggage|          4|            0|          0|   N|                Y|          Four Stars|seems nicely made...| 2015-08-31|\n",
            "|         US|   38541771|R1OXYPBPLVRMI5|B000M5NBYU|     812890709|Port & Company Zi...|         Luggage|          5|            0|          0|   N|                Y|           Dance Bag|Great bag for all...| 2015-08-31|\n",
            "+-----------+-----------+--------------+----------+--------------+--------------------+----------------+-----------+-------------+-----------+----+-----------------+--------------------+--------------------+-----------+\n",
            "only showing top 5 rows\n",
            "\n"
          ]
        }
      ],
      "source": [
        "# Read in data from S3 Buckets\n",
        "from pyspark import SparkFiles\n",
        "url =\"https://s3.amazonaws.com/amazon-reviews-pds/tsv/amazon_reviews_us_Luggage_v1_00.tsv.gz\"\n",
        "file = \"amazon_reviews_us_Luggage_v1_00.tsv.gz\"\n",
        "\n",
        "from pyspark.sql.types import IntegerType, DateType, StructType, StructField\n",
        "\n",
        "spark.sparkContext.addFile(url)\n",
        "df = spark.read.option(\"delimiter\", \"\\t\").option(\"header\",\"True\").option(\"InferSchema\",\"True\").csv(SparkFiles.get(file))\n",
        "\n",
        "# Show DataFrame\n",
        "df.show(5)"
      ]
    },
    {
      "cell_type": "code",
      "execution_count": 6,
      "metadata": {
        "colab": {
          "base_uri": "https://localhost:8080/"
        },
        "id": "GO9Ce2WzVuee",
        "outputId": "47d8f30b-2c47-420e-fa44-da808ef5de90"
      },
      "outputs": [
        {
          "name": "stdout",
          "output_type": "stream",
          "text": [
            "Number of rows: 348657\n",
            "Number of distinct rows: 348657\n"
          ]
        }
      ],
      "source": [
        "print(f\"Number of rows: {df.count()}\")\n",
        "print(f\"Number of distinct rows: {df.distinct().count()}\")"
      ]
    },
    {
      "cell_type": "markdown",
      "metadata": {
        "id": "OU7K457TWbKM"
      },
      "source": [
        "# Cleaning"
      ]
    },
    {
      "cell_type": "code",
      "execution_count": 7,
      "metadata": {
        "colab": {
          "base_uri": "https://localhost:8080/"
        },
        "id": "r3jbeZ1OWdWF",
        "outputId": "49414728-2978-4767-e3af-b55f0dedd780"
      },
      "outputs": [
        {
          "data": {
            "text/plain": [
              "348657"
            ]
          },
          "execution_count": 7,
          "metadata": {},
          "output_type": "execute_result"
        }
      ],
      "source": [
        "# Drop duplicate rows - not necessary but included for consistency\n",
        "df_distinct = df.distinct()\n",
        "df_distinct.count()"
      ]
    },
    {
      "cell_type": "markdown",
      "metadata": {
        "id": "f_QRxCKokAVe"
      },
      "source": [
        "## Review_id_table"
      ]
    },
    {
      "cell_type": "code",
      "execution_count": 9,
      "metadata": {
        "colab": {
          "base_uri": "https://localhost:8080/"
        },
        "id": "WyNvVMyxW8At",
        "outputId": "45f6a83b-86d1-484a-f3c1-a721ade58b26"
      },
      "outputs": [
        {
          "name": "stdout",
          "output_type": "stream",
          "text": [
            "+--------------+-----------+----------+--------------+-----------+\n",
            "|     review_id|customer_id|product_id|product_parent|review_date|\n",
            "+--------------+-----------+----------+--------------+-----------+\n",
            "|R3OHGQ6JOIBQ48|     128130|B003EJ050Y|     486561015| 2015-08-31|\n",
            "|R1NQ9X24HV2U2E|   11836725|B005GUQ4CM|     317832287| 2015-08-31|\n",
            "| RJI0Q00MCMKQH|   24710655|B00K6PGH7E|     931891804| 2015-08-31|\n",
            "|R20SZBU9IS24TI|   36666557|B012U4W5TW|     173270557| 2015-08-30|\n",
            "| RG5JVUZKMU1VM|   31021648|B00W9BSZO6|     967192081| 2015-08-29|\n",
            "|R1336COI4RMITE|   31932003|B000M5G1TW|     758976344| 2015-08-29|\n",
            "|R33EO3BLNVAXYR|   23681709|B005IFCZ78|     143380281| 2015-08-29|\n",
            "|R2W99FE9TTAOF0|   13793484|B00W4TAAYG|     456332879| 2015-08-29|\n",
            "| R9CKZLJKCLSPD|   33805050|B005AIISEC|     128696805| 2015-08-28|\n",
            "| RZMOB0WJAM6AD|   38135040|B00N456A5C|     613530019| 2015-08-28|\n",
            "| RF9OIRURI3VA8|   50753128|B00KGDZJAM|     781566654| 2015-08-28|\n",
            "|R3FMRTNUAG0Q9A|   45053111|B003KR1K4K|     689597691| 2015-08-27|\n",
            "|R23FABLBZ3E67H|   34676469|B0053518QM|     521572031| 2015-08-27|\n",
            "|R19LVAC1TJHFUD|     110282|B003FA2APK|     593587352| 2015-08-27|\n",
            "|R1L0VMR59I7V6A|    4099687|B00HT8BBHM|     641299503| 2015-08-27|\n",
            "| R684A7QOCKELS|     187005|B004CI8CQA|     457658838| 2015-08-27|\n",
            "|  R7T5H9KZ8JTL|   49423818|B00NWUH760|     132000468| 2015-08-26|\n",
            "| REQM7KCSXFLVI|   52849965|B00RYTYAQ0|      50185705| 2015-08-26|\n",
            "|R2G53LMUYOCWOJ|   17156272|B00NGGEMJ0|     593225222| 2015-08-25|\n",
            "| RQZPGWYKBYTA3|     192205|B00VZ67AFG|      74206648| 2015-08-25|\n",
            "+--------------+-----------+----------+--------------+-----------+\n",
            "only showing top 20 rows\n",
            "\n"
          ]
        }
      ],
      "source": [
        "from pyspark.sql.functions import to_date\n",
        "# Create review_id_table\n",
        "review_id_table = df_distinct.select(\"review_id\", \"customer_id\", \"product_id\", \"product_parent\", to_date(\"review_date\", 'yyyy-MM-dd').alias(\"review_date\"))\n",
        "review_id_table.show()"
      ]
    },
    {
      "cell_type": "code",
      "execution_count": 10,
      "metadata": {
        "colab": {
          "base_uri": "https://localhost:8080/"
        },
        "id": "6JXLezWCYb7r",
        "outputId": "1633c978-24fe-434a-f57b-e008d34e7258"
      },
      "outputs": [
        {
          "data": {
            "text/plain": [
              "[('review_id', 'string'),\n",
              " ('customer_id', 'int'),\n",
              " ('product_id', 'string'),\n",
              " ('product_parent', 'int'),\n",
              " ('review_date', 'date')]"
            ]
          },
          "execution_count": 10,
          "metadata": {},
          "output_type": "execute_result"
        }
      ],
      "source": [
        "# Check data types\n",
        "review_id_table.dtypes"
      ]
    },
    {
      "cell_type": "markdown",
      "metadata": {
        "id": "5tnm-NqukE9t"
      },
      "source": [
        "## products"
      ]
    },
    {
      "cell_type": "code",
      "execution_count": 11,
      "metadata": {
        "colab": {
          "base_uri": "https://localhost:8080/"
        },
        "id": "cW7nMAHJkIim",
        "outputId": "0cf91bd5-924e-4242-a161-f4403a6dcbaa"
      },
      "outputs": [
        {
          "name": "stdout",
          "output_type": "stream",
          "text": [
            "+----------+--------------------+\n",
            "|product_id|       product_title|\n",
            "+----------+--------------------+\n",
            "|B003EJ050Y|Olympia Luggage S...|\n",
            "|B005GUQ4CM|Everest Deluxe To...|\n",
            "|B00K6PGH7E|Visconti Visconti...|\n",
            "|B012U4W5TW|Shirts By Sarah T...|\n",
            "|B00W9BSZO6|Travelon Anti-The...|\n",
            "|B000M5G1TW|DESIGN GO TRAVEL ...|\n",
            "|B005IFCZ78|Everest Luggage B...|\n",
            "|B00W4TAAYG|Polare Canvas Cow...|\n",
            "|B005AIISEC|Travelon Compress...|\n",
            "|B00N456A5C|Disney Pixar Cars...|\n",
            "|B00KGDZJAM|Tumi Prism Leathe...|\n",
            "|B003KR1K4K|Samsonite Tote-A-...|\n",
            "|B0053518QM|   Everest Sling Bag|\n",
            "|B003FA2APK|Leighton Black UV...|\n",
            "|B00HT8BBHM|Samantha Brown Fi...|\n",
            "|B004CI8CQA|Samsonite Bonded ...|\n",
            "|B00NWUH760|Rockland Stage Co...|\n",
            "|B00RYTYAQ0|IGOGEER Money Bel...|\n",
            "|B00NGGEMJ0|Aibag Multi-Color...|\n",
            "|B00VZ67AFG|Bellaza Quilted S...|\n",
            "+----------+--------------------+\n",
            "only showing top 20 rows\n",
            "\n"
          ]
        }
      ],
      "source": [
        "products = df_distinct.select(\"product_id\", \"product_title\")\n",
        "products.show()"
      ]
    },
    {
      "cell_type": "code",
      "execution_count": 12,
      "metadata": {
        "colab": {
          "base_uri": "https://localhost:8080/"
        },
        "id": "5Y8SgIfPkW_V",
        "outputId": "00085c53-614b-4182-fa58-1762affe8758"
      },
      "outputs": [
        {
          "data": {
            "text/plain": [
              "[('product_id', 'string'), ('product_title', 'string')]"
            ]
          },
          "execution_count": 12,
          "metadata": {},
          "output_type": "execute_result"
        }
      ],
      "source": [
        "products.dtypes"
      ]
    },
    {
      "cell_type": "code",
      "execution_count": 13,
      "metadata": {
        "id": "1_sINL0AwXE_"
      },
      "outputs": [],
      "source": [
        "# Drop duplicates to keep only one review per ID\n",
        "# Loses data, but is needed for upload to table with specified schema\n",
        "products_dist = products.dropDuplicates(['product_id'])"
      ]
    },
    {
      "cell_type": "code",
      "execution_count": 14,
      "metadata": {
        "colab": {
          "base_uri": "https://localhost:8080/"
        },
        "id": "a-P_9oTcw4D2",
        "outputId": "22c2b202-f819-46d0-a936-7c91bffa1e18"
      },
      "outputs": [
        {
          "data": {
            "text/plain": [
              "64589"
            ]
          },
          "execution_count": 14,
          "metadata": {},
          "output_type": "execute_result"
        }
      ],
      "source": [
        "products_dist.count()"
      ]
    },
    {
      "cell_type": "markdown",
      "metadata": {
        "id": "HgtfCxTUkbtA"
      },
      "source": [
        "## customers"
      ]
    },
    {
      "cell_type": "code",
      "execution_count": 15,
      "metadata": {
        "colab": {
          "base_uri": "https://localhost:8080/"
        },
        "id": "jpddBv4wkeFd",
        "outputId": "d1e2090d-73b1-44c2-adea-043ac12b9c80"
      },
      "outputs": [
        {
          "name": "stdout",
          "output_type": "stream",
          "text": [
            "+-----------+--------------+\n",
            "|customer_id|customer_count|\n",
            "+-----------+--------------+\n",
            "|   14750529|             2|\n",
            "|     264914|             1|\n",
            "|   34326854|             1|\n",
            "|   41688270|             4|\n",
            "|   18800155|             2|\n",
            "|   15495404|             1|\n",
            "|   29705442|             1|\n",
            "|   14777327|             1|\n",
            "|   18255735|             2|\n",
            "|   35575504|             1|\n",
            "|   15123832|             1|\n",
            "|   13216996|             8|\n",
            "|   38715395|             1|\n",
            "|   27632536|             1|\n",
            "|   47143360|             1|\n",
            "|    1721110|             1|\n",
            "|   23864483|             1|\n",
            "|   38756115|             1|\n",
            "|   52110649|             1|\n",
            "|     481231|             1|\n",
            "+-----------+--------------+\n",
            "only showing top 20 rows\n",
            "\n"
          ]
        }
      ],
      "source": [
        "customers = df_distinct.groupby(\"customer_id\").count()\n",
        "customers = customers.withColumnRenamed(\"count\",\"customer_count\")\n",
        "customers.show()"
      ]
    },
    {
      "cell_type": "code",
      "execution_count": 16,
      "metadata": {
        "colab": {
          "base_uri": "https://localhost:8080/"
        },
        "id": "KbXk0GIGlPME",
        "outputId": "fa6885eb-f4ce-4f48-b8f5-ee926f743bb3"
      },
      "outputs": [
        {
          "data": {
            "text/plain": [
              "[('customer_id', 'int'), ('customer_count', 'bigint')]"
            ]
          },
          "execution_count": 16,
          "metadata": {},
          "output_type": "execute_result"
        }
      ],
      "source": [
        "customers.dtypes"
      ]
    },
    {
      "cell_type": "markdown",
      "metadata": {
        "id": "jFvJi-nUlTNL"
      },
      "source": [
        "## vine_table"
      ]
    },
    {
      "cell_type": "code",
      "execution_count": 17,
      "metadata": {
        "colab": {
          "base_uri": "https://localhost:8080/"
        },
        "id": "LphdS25nlVV0",
        "outputId": "52d67e8d-16dc-4a90-84e2-19a54d47ad50"
      },
      "outputs": [
        {
          "name": "stdout",
          "output_type": "stream",
          "text": [
            "+--------------+-----------+-------------+-----------+----+\n",
            "|     review_id|star_rating|helpful_votes|total_votes|vine|\n",
            "+--------------+-----------+-------------+-----------+----+\n",
            "|R3OHGQ6JOIBQ48|          5|            0|          0|   N|\n",
            "|R1NQ9X24HV2U2E|          5|            0|          0|   N|\n",
            "| RJI0Q00MCMKQH|          5|            0|          0|   N|\n",
            "|R20SZBU9IS24TI|          5|            1|          1|   N|\n",
            "| RG5JVUZKMU1VM|          3|            2|          3|   N|\n",
            "|R1336COI4RMITE|          5|            0|          0|   N|\n",
            "|R33EO3BLNVAXYR|          4|            0|          0|   N|\n",
            "|R2W99FE9TTAOF0|          5|            0|          0|   N|\n",
            "| R9CKZLJKCLSPD|          4|            0|          0|   N|\n",
            "| RZMOB0WJAM6AD|          4|            0|          0|   N|\n",
            "| RF9OIRURI3VA8|          5|            0|          0|   N|\n",
            "|R3FMRTNUAG0Q9A|          5|            1|          1|   N|\n",
            "|R23FABLBZ3E67H|          4|            0|          0|   N|\n",
            "|R19LVAC1TJHFUD|          5|            0|          0|   N|\n",
            "|R1L0VMR59I7V6A|          1|            0|          0|   N|\n",
            "| R684A7QOCKELS|          2|            0|          0|   N|\n",
            "|  R7T5H9KZ8JTL|          1|            0|          3|   N|\n",
            "| REQM7KCSXFLVI|          5|            0|          0|   N|\n",
            "|R2G53LMUYOCWOJ|          4|            0|          0|   N|\n",
            "| RQZPGWYKBYTA3|          5|            1|          1|   N|\n",
            "+--------------+-----------+-------------+-----------+----+\n",
            "only showing top 20 rows\n",
            "\n"
          ]
        }
      ],
      "source": [
        "vine_table = df_distinct.select(\"review_id\", \"star_rating\", \"helpful_votes\", \"total_votes\", \"vine\")\n",
        "vine_table.show()"
      ]
    },
    {
      "cell_type": "code",
      "execution_count": 18,
      "metadata": {
        "colab": {
          "base_uri": "https://localhost:8080/"
        },
        "id": "-eGV35N7lnvc",
        "outputId": "1723a914-c1ca-480d-f3d0-e1190a4bf75c"
      },
      "outputs": [
        {
          "data": {
            "text/plain": [
              "[('review_id', 'string'),\n",
              " ('star_rating', 'int'),\n",
              " ('helpful_votes', 'int'),\n",
              " ('total_votes', 'int'),\n",
              " ('vine', 'string')]"
            ]
          },
          "execution_count": 18,
          "metadata": {},
          "output_type": "execute_result"
        }
      ],
      "source": [
        "vine_table.dtypes"
      ]
    },
    {
      "cell_type": "markdown",
      "metadata": {
        "id": "LpqBpaGmrV0c"
      },
      "source": [
        "# Database connection"
      ]
    },
    {
      "cell_type": "code",
      "execution_count": 19,
      "metadata": {
        "colab": {
          "base_uri": "https://localhost:8080/"
        },
        "id": "JQ29CWybseE0",
        "outputId": "b0b0bfd4-9e79-4736-d0a0-93921cf7d237"
      },
      "outputs": [
        {
          "name": "stdout",
          "output_type": "stream",
          "text": [
            "--2021-11-26 20:47:07--  https://jdbc.postgresql.org/download/postgresql-42.2.9.jar\n",
            "Resolving jdbc.postgresql.org (jdbc.postgresql.org)... 72.32.157.228, 2001:4800:3e1:1::228\n",
            "Connecting to jdbc.postgresql.org (jdbc.postgresql.org)|72.32.157.228|:443... connected.\n",
            "HTTP request sent, awaiting response... 200 OK\n",
            "Length: 914037 (893K) [application/java-archive]\n",
            "Saving to: ‘postgresql-42.2.9.jar.3’\n",
            "\n",
            "postgresql-42.2.9.j 100%[===================>] 892.61K  1.72MB/s    in 0.5s    \n",
            "\n",
            "2021-11-26 20:47:08 (1.72 MB/s) - ‘postgresql-42.2.9.jar.3’ saved [914037/914037]\n",
            "\n"
          ]
        }
      ],
      "source": [
        "!wget https://jdbc.postgresql.org/download/postgresql-42.2.9.jar"
      ]
    },
    {
      "cell_type": "code",
      "execution_count": 20,
      "metadata": {
        "id": "pKQqv4b-rZIj"
      },
      "outputs": [],
      "source": [
        "mode = \"append\"\n",
        "jdbc_url=\"jdbc:postgresql://<instance>.rds.amazonaws.com:5432/bigdatachallenge\"\n",
        "config = {\"user\":\"<user>\", \n",
        "          \"password\": \"<password>\", \n",
        "          \"driver\":\"org.postgresql.Driver\"}"
      ]
    },
    {
      "cell_type": "code",
      "execution_count": 22,
      "metadata": {
        "id": "W-GVWzPssUWl"
      },
      "outputs": [],
      "source": [
        "\n",
        "products_dist.write.jdbc(url=jdbc_url, table='products', mode=mode, properties=config)\n",
        "customers.write.jdbc(url=jdbc_url, table='customers', mode=mode, properties=config)\n",
        "vine_table.write.jdbc(url=jdbc_url, table='vine_table', mode=mode, properties=config)"
      ]
    },
    {
      "cell_type": "code",
      "execution_count": 23,
      "metadata": {
        "id": "v7a2Ys-syH1I"
      },
      "outputs": [],
      "source": [
        "review_id_table.write.jdbc(url=jdbc_url, table='review_id_table', mode=mode, properties=config)"
      ]
    }
  ],
  "metadata": {
    "colab": {
      "collapsed_sections": [],
      "name": "luggage.ipynb",
      "provenance": []
    },
    "kernelspec": {
      "display_name": "Python 3",
      "name": "python3"
    },
    "language_info": {
      "name": "python"
    }
  },
  "nbformat": 4,
  "nbformat_minor": 0
}
