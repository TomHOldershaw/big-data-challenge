{
  "cells": [
    {
      "cell_type": "code",
      "execution_count": 1,
      "metadata": {
        "colab": {
          "base_uri": "https://localhost:8080/"
        },
        "id": "6mx2snOTPccK",
        "outputId": "bb6b8629-83c3-4f30-abbd-2898fdcf4a02"
      },
      "outputs": [
        {
          "name": "stdout",
          "output_type": "stream",
          "text": [
            "Requirement already satisfied: boto3 in /usr/local/lib/python3.7/dist-packages (1.20.13)\n",
            "Requirement already satisfied: botocore<1.24.0,>=1.23.13 in /usr/local/lib/python3.7/dist-packages (from boto3) (1.23.13)\n",
            "Requirement already satisfied: jmespath<1.0.0,>=0.7.1 in /usr/local/lib/python3.7/dist-packages (from boto3) (0.10.0)\n",
            "Requirement already satisfied: s3transfer<0.6.0,>=0.5.0 in /usr/local/lib/python3.7/dist-packages (from boto3) (0.5.0)\n",
            "Requirement already satisfied: python-dateutil<3.0.0,>=2.1 in /usr/local/lib/python3.7/dist-packages (from botocore<1.24.0,>=1.23.13->boto3) (2.8.2)\n",
            "Requirement already satisfied: urllib3<1.27,>=1.25.4 in /usr/local/lib/python3.7/dist-packages (from botocore<1.24.0,>=1.23.13->boto3) (1.26.7)\n",
            "Requirement already satisfied: six>=1.5 in /usr/local/lib/python3.7/dist-packages (from python-dateutil<3.0.0,>=2.1->botocore<1.24.0,>=1.23.13->boto3) (1.15.0)\n"
          ]
        }
      ],
      "source": [
        "!pip install boto3"
      ]
    },
    {
      "cell_type": "code",
      "execution_count": 2,
      "metadata": {
        "id": "jOcOp36tNyCX"
      },
      "outputs": [],
      "source": [
        "# Initial imports\n",
        "import os\n",
        "import io\n",
        "import json\n",
        "import numpy as np\n",
        "import pandas as pd\n",
        "import boto3"
      ]
    },
    {
      "cell_type": "code",
      "execution_count": 2,
      "metadata": {
        "id": "r6TxU1KlORLa"
      },
      "outputs": [],
      "source": []
    },
    {
      "cell_type": "code",
      "execution_count": 3,
      "metadata": {
        "colab": {
          "base_uri": "https://localhost:8080/"
        },
        "id": "xoaJvY79PrlL",
        "outputId": "4f9ba9f7-88dd-41fd-8357-3de944c28f3d"
      },
      "outputs": [
        {
          "name": "stdout",
          "output_type": "stream",
          "text": [
            "\r0% [Working]\r            \rHit:1 https://cloud.r-project.org/bin/linux/ubuntu bionic-cran40/ InRelease\n",
            "\r0% [Connecting to archive.ubuntu.com (91.189.88.142)] [Connecting to security.u\r0% [1 InRelease gpgv 3,626 B] [Connecting to archive.ubuntu.com (91.189.88.142)\r                                                                               \rIgn:2 https://developer.download.nvidia.com/compute/cuda/repos/ubuntu1804/x86_64  InRelease\n",
            "\r0% [1 InRelease gpgv 3,626 B] [Connecting to archive.ubuntu.com (91.189.88.142)\r                                                                               \rIgn:3 https://developer.download.nvidia.com/compute/machine-learning/repos/ubuntu1804/x86_64  InRelease\n",
            "\r0% [1 InRelease gpgv 3,626 B] [Connecting to archive.ubuntu.com (91.189.88.142)\r                                                                               \rHit:4 https://developer.download.nvidia.com/compute/cuda/repos/ubuntu1804/x86_64  Release\n",
            "Hit:5 https://developer.download.nvidia.com/compute/machine-learning/repos/ubuntu1804/x86_64  Release\n",
            "Hit:6 http://archive.ubuntu.com/ubuntu bionic InRelease\n",
            "Get:7 http://security.ubuntu.com/ubuntu bionic-security InRelease [88.7 kB]\n",
            "Get:8 http://archive.ubuntu.com/ubuntu bionic-updates InRelease [88.7 kB]\n",
            "Hit:9 http://ppa.launchpad.net/c2d4u.team/c2d4u4.0+/ubuntu bionic InRelease\n",
            "Hit:11 http://ppa.launchpad.net/cran/libgit2/ubuntu bionic InRelease\n",
            "Get:13 http://archive.ubuntu.com/ubuntu bionic-backports InRelease [74.6 kB]\n",
            "Hit:14 http://ppa.launchpad.net/deadsnakes/ppa/ubuntu bionic InRelease\n",
            "Hit:15 http://ppa.launchpad.net/graphics-drivers/ppa/ubuntu bionic InRelease\n",
            "Fetched 252 kB in 2s (106 kB/s)\n",
            "Reading package lists... Done\n"
          ]
        }
      ],
      "source": [
        "# Find the latest version of spark 3.0  from http://www.apache.org/dist/spark/ and enter as the spark version\n",
        "spark_version = \"spark-3.2.0\"\n",
        "os.environ['SPARK_VERSION']=spark_version\n",
        "\n",
        "# Install Spark and Java\n",
        "!apt-get update\n",
        "!apt-get install openjdk-8-jdk-headless -qq > /dev/null\n",
        "!wget -q http://www.apache.org/dist/spark/$SPARK_VERSION/$SPARK_VERSION-bin-hadoop2.7.tgz\n",
        "!tar xf $SPARK_VERSION-bin-hadoop2.7.tgz\n",
        "!pip install -q findspark\n",
        "\n",
        "# Set Environment Variables\n",
        "os.environ[\"JAVA_HOME\"] = \"/usr/lib/jvm/java-8-openjdk-amd64\"\n",
        "os.environ[\"SPARK_HOME\"] = f\"/content/{spark_version}-bin-hadoop2.7\"\n",
        "\n",
        "# Start a SparkSession\n",
        "import findspark\n",
        "findspark.init()"
      ]
    },
    {
      "cell_type": "code",
      "execution_count": 4,
      "metadata": {
        "id": "9finE7JjRCbI"
      },
      "outputs": [],
      "source": [
        "# Start Spark session\n",
        "from pyspark.sql import SparkSession\n",
        "spark = SparkSession.builder.appName(\"Pets\").config(\"spark.driver.extraClassPath\",\"/content/postgresql-42.2.9.jar\").getOrCreate()"
      ]
    },
    {
      "cell_type": "code",
      "execution_count": 5,
      "metadata": {
        "colab": {
          "base_uri": "https://localhost:8080/"
        },
        "id": "qhHsF2p2QZTQ",
        "outputId": "6f7f89d8-a34a-4b36-8afa-a5b1eb47ac59"
      },
      "outputs": [
        {
          "name": "stdout",
          "output_type": "stream",
          "text": [
            "+-----------+-----------+--------------+----------+--------------+--------------------+----------------+-----------+-------------+-----------+----+-----------------+--------------------+--------------------+-----------+\n",
            "|marketplace|customer_id|     review_id|product_id|product_parent|       product_title|product_category|star_rating|helpful_votes|total_votes|vine|verified_purchase|     review_headline|         review_body|review_date|\n",
            "+-----------+-----------+--------------+----------+--------------+--------------------+----------------+-----------+-------------+-----------+----+-----------------+--------------------+--------------------+-----------+\n",
            "|         US|   28794885| REAKC26P07MDN|B00Q0K9604|     510387886|(8-Pack) EZwhelp ...|    Pet Products|          5|            0|          0|   N|                Y|A great purchase ...|Best belly bands ...| 2015-08-31|\n",
            "|         US|   11488901|R3NU7OMZ4HQIEG|B00MBW5O9W|     912374672|Warren Eckstein's...|    Pet Products|          2|            0|          1|   N|                Y|My dogs love Hugs...|My dogs love Hugs...| 2015-08-31|\n",
            "|         US|   43214993|R14QJW3XF8QO1P|B0084OHUIO|     902215727|Tyson's True Chew...|    Pet Products|          5|            0|          0|   N|                Y|I have been purch...|I have been purch...| 2015-08-31|\n",
            "|         US|   12835065|R2HB7AX0394ZGY|B001GS71K2|     568880110|Soft Side Pet Cra...|    Pet Products|          5|            0|          0|   N|                Y|it is easy to ope...|It is extremely w...| 2015-08-31|\n",
            "|         US|   26334022| RGKMPDQGSAHR3|B004ABH1LG|     692846826|EliteField 3-Door...|    Pet Products|          5|            0|          0|   N|                Y|           Dog crate|Worked really wel...| 2015-08-31|\n",
            "+-----------+-----------+--------------+----------+--------------+--------------------+----------------+-----------+-------------+-----------+----+-----------------+--------------------+--------------------+-----------+\n",
            "only showing top 5 rows\n",
            "\n"
          ]
        }
      ],
      "source": [
        "# Read in data from S3 Buckets\n",
        "from pyspark import SparkFiles\n",
        "url =\"https://s3.amazonaws.com/amazon-reviews-pds/tsv/amazon_reviews_us_Pet_Products_v1_00.tsv.gz\"\n",
        "file = \"amazon_reviews_us_Pet_Products_v1_00.tsv.gz\"\n",
        "\n",
        "from pyspark.sql.types import StringType, IntegerType, DateType, StructType, StructField\n",
        "\n",
        "spark.sparkContext.addFile(url)\n",
        "df = spark.read.option(\"delimiter\", \"\\t\").option(\"header\",\"True\").option(\"inferSchema\",\"True\").csv(SparkFiles.get(file))\n",
        "\n",
        "# Show DataFrame\n",
        "df.show(5)"
      ]
    },
    {
      "cell_type": "code",
      "execution_count": 6,
      "metadata": {
        "colab": {
          "base_uri": "https://localhost:8080/"
        },
        "id": "GO9Ce2WzVuee",
        "outputId": "76b2330d-cbeb-4ab6-b769-c31e5b6066ad"
      },
      "outputs": [
        {
          "name": "stdout",
          "output_type": "stream",
          "text": [
            "Number of rows: 2643619\n",
            "Number of distinct rows: 2643619\n"
          ]
        }
      ],
      "source": [
        "print(f\"Number of rows: {df.count()}\")\n",
        "print(f\"Number of distinct rows: {df.distinct().count()}\")"
      ]
    },
    {
      "cell_type": "markdown",
      "metadata": {
        "id": "OU7K457TWbKM"
      },
      "source": [
        "# Cleaning"
      ]
    },
    {
      "cell_type": "code",
      "execution_count": 7,
      "metadata": {
        "colab": {
          "base_uri": "https://localhost:8080/"
        },
        "id": "r3jbeZ1OWdWF",
        "outputId": "ccdf0767-a404-41fa-ed67-ff6b02fb4e51"
      },
      "outputs": [
        {
          "data": {
            "text/plain": [
              "2643619"
            ]
          },
          "execution_count": 7,
          "metadata": {},
          "output_type": "execute_result"
        }
      ],
      "source": [
        "# Drop duplicate rows - not necessary but included for consistency\n",
        "df_distinct = df.distinct()\n",
        "df_distinct.count()"
      ]
    },
    {
      "cell_type": "markdown",
      "metadata": {
        "id": "f_QRxCKokAVe"
      },
      "source": [
        "## Review_id_table"
      ]
    },
    {
      "cell_type": "code",
      "execution_count": 8,
      "metadata": {
        "colab": {
          "base_uri": "https://localhost:8080/"
        },
        "id": "WyNvVMyxW8At",
        "outputId": "4d42b20c-4f7d-4d04-9533-5631135b7e5d"
      },
      "outputs": [
        {
          "name": "stdout",
          "output_type": "stream",
          "text": [
            "+--------------+-----------+----------+--------------+-----------+\n",
            "|     review_id|customer_id|product_id|product_parent|review_date|\n",
            "+--------------+-----------+----------+--------------+-----------+\n",
            "|R100EO2AQP6B02|   33140435|B00BUQ4AV8|     805940477| 2014-10-12|\n",
            "|R100IITU077KKZ|   25475634|B00RVY9DRO|     189955978| 2015-06-04|\n",
            "|R100WIAVSCW4D1|   49229898|B004M8LM44|     419962202| 2013-07-31|\n",
            "|R1023NXBAJ0BYT|   52227830|B0006IZH68|     470609741| 2004-12-23|\n",
            "|R102CEVVIBXNFB|   11062585|B0014N70QO|     226028756| 2014-07-14|\n",
            "|R102MO11LN79HV|   17155412|B0039LFVUG|     517238077| 2010-07-24|\n",
            "|R102TPQOB6ECI4|   46107297|B008QVKBLS|     212972268| 2015-02-27|\n",
            "|R1032IWOCCKRV1|   28307907|B00406YHRC|     178991753| 2014-01-08|\n",
            "|R103QNPJX6OJ6D|   38188681|B003TUQWB4|     287424702| 2014-05-27|\n",
            "|R104GDOC82SGT4|   49476810|B000YIWUXI|     178342731| 2015-03-13|\n",
            "|R104OCMU5PF85T|    2654230|B008CO4H8C|     648340511| 2015-03-03|\n",
            "|R104OIYLZ3E442|   20836291|B000Y91HOU|      17136419| 2014-11-08|\n",
            "|R1059V5TMDI4OK|   36614394|B004HX6QD6|     585304058| 2011-07-27|\n",
            "|R1063IMZRT6M5U|   17889801|B00IEVI99G|     667397634| 2014-08-30|\n",
            "|R106PQ59GQR25O|   15814674|B004J2BIHO|     562071400| 2014-09-17|\n",
            "|R106PSVF1DIS96|   11667976|B003IUF1FS|     656047532| 2014-08-14|\n",
            "|R106WJGJO9C6QO|   36315410|B0002APXJQ|     546791410| 2015-08-27|\n",
            "|R107YKUN3UFA9D|    7990814|B008CUZJF6|     300102872| 2015-07-11|\n",
            "|R108VYYR4WVDJW|   17786476|B004B3W4N8|     839754302| 2013-07-06|\n",
            "|R109MW1PSIPPGP|   15411013|B004UMMJC6|     906220941| 2014-04-17|\n",
            "+--------------+-----------+----------+--------------+-----------+\n",
            "only showing top 20 rows\n",
            "\n"
          ]
        }
      ],
      "source": [
        "from pyspark.sql.functions import to_date\n",
        "# Create review_id_table\n",
        "review_id_table = df_distinct.select(\"review_id\", \"customer_id\", \"product_id\", \"product_parent\", to_date(\"review_date\", 'yyyy-MM-dd').alias(\"review_date\"))\n",
        "review_id_table.show()"
      ]
    },
    {
      "cell_type": "code",
      "execution_count": 9,
      "metadata": {
        "colab": {
          "base_uri": "https://localhost:8080/"
        },
        "id": "6JXLezWCYb7r",
        "outputId": "4e7cea42-6680-4a8a-cba7-3f52d2227690"
      },
      "outputs": [
        {
          "data": {
            "text/plain": [
              "[('review_id', 'string'),\n",
              " ('customer_id', 'int'),\n",
              " ('product_id', 'string'),\n",
              " ('product_parent', 'int'),\n",
              " ('review_date', 'date')]"
            ]
          },
          "execution_count": 9,
          "metadata": {},
          "output_type": "execute_result"
        }
      ],
      "source": [
        "# Check data types\n",
        "review_id_table.dtypes"
      ]
    },
    {
      "cell_type": "markdown",
      "metadata": {
        "id": "5tnm-NqukE9t"
      },
      "source": [
        "## products"
      ]
    },
    {
      "cell_type": "code",
      "execution_count": 10,
      "metadata": {
        "colab": {
          "base_uri": "https://localhost:8080/"
        },
        "id": "cW7nMAHJkIim",
        "outputId": "9d629307-3992-407f-93dc-9762a1e4ebfd"
      },
      "outputs": [
        {
          "name": "stdout",
          "output_type": "stream",
          "text": [
            "+----------+--------------------+\n",
            "|product_id|       product_title|\n",
            "+----------+--------------------+\n",
            "|B00BUQ4AV8|Evergreens Pet Do...|\n",
            "|B00RVY9DRO|Volkman Avian Sci...|\n",
            "|B004M8LM44|Dogtra YS300 Dog ...|\n",
            "|B0006IZH68|thedog8it! Gourme...|\n",
            "|B0014N70QO|Litter Kwitter To...|\n",
            "|B0039LFVUG|So Bright LLC SO ...|\n",
            "|B008QVKBLS|Super Bright 3W 2...|\n",
            "|B00406YHRC|Prevue Pet Produc...|\n",
            "|B003TUQWB4|Solvit Jumbo Stan...|\n",
            "|B000YIWUXI|Safari® Cat Self-...|\n",
            "|B008CO4H8C|Furhaven Hood Pet...|\n",
            "|B000Y91HOU|Zanies Hard Rubbe...|\n",
            "|B004HX6QD6|Dogtra IQ Remote ...|\n",
            "|B00IEVI99G|2 Door Pet Wire C...|\n",
            "|B004J2BIHO|Top Performance A...|\n",
            "|B003IUF1FS|FLEA + TICK Repel...|\n",
            "|B0002APXJQ|           Quick-Net|\n",
            "|B008CUZJF6|DIY CO2 Aquarium ...|\n",
            "|B004B3W4N8|6\" BULLY STICKS -...|\n",
            "|B004UMMJC6|Frontline 3-Pack ...|\n",
            "+----------+--------------------+\n",
            "only showing top 20 rows\n",
            "\n"
          ]
        }
      ],
      "source": [
        "products = df_distinct.select(\"product_id\", \"product_title\")\n",
        "products.show()"
      ]
    },
    {
      "cell_type": "code",
      "execution_count": 11,
      "metadata": {
        "colab": {
          "base_uri": "https://localhost:8080/"
        },
        "id": "5Y8SgIfPkW_V",
        "outputId": "12144afa-b9ef-47ec-92d1-a94d747141d9"
      },
      "outputs": [
        {
          "data": {
            "text/plain": [
              "[('product_id', 'string'), ('product_title', 'string')]"
            ]
          },
          "execution_count": 11,
          "metadata": {},
          "output_type": "execute_result"
        }
      ],
      "source": [
        "products.dtypes"
      ]
    },
    {
      "cell_type": "code",
      "execution_count": 12,
      "metadata": {
        "id": "1_sINL0AwXE_"
      },
      "outputs": [],
      "source": [
        "# Drop duplicates to keep only one review per ID\n",
        "# Loses data, but is needed for upload to table with specified schema\n",
        "products_dist = products.dropDuplicates(['product_id'])"
      ]
    },
    {
      "cell_type": "code",
      "execution_count": 13,
      "metadata": {
        "colab": {
          "base_uri": "https://localhost:8080/"
        },
        "id": "a-P_9oTcw4D2",
        "outputId": "16af550f-acaa-4501-daa7-4d3b742fb3fc"
      },
      "outputs": [
        {
          "data": {
            "text/plain": [
              "239341"
            ]
          },
          "execution_count": 13,
          "metadata": {},
          "output_type": "execute_result"
        }
      ],
      "source": [
        "products_dist.count()"
      ]
    },
    {
      "cell_type": "markdown",
      "metadata": {
        "id": "HgtfCxTUkbtA"
      },
      "source": [
        "## customers"
      ]
    },
    {
      "cell_type": "code",
      "execution_count": 14,
      "metadata": {
        "colab": {
          "base_uri": "https://localhost:8080/"
        },
        "id": "jpddBv4wkeFd",
        "outputId": "5afddfb9-4c27-474a-fc26-639578ec9dbe"
      },
      "outputs": [
        {
          "name": "stdout",
          "output_type": "stream",
          "text": [
            "+-----------+--------------+\n",
            "|customer_id|customer_count|\n",
            "+-----------+--------------+\n",
            "|   37223012|             5|\n",
            "|   52055901|             1|\n",
            "|   16223525|             5|\n",
            "|   28023775|             3|\n",
            "|   51092659|             3|\n",
            "|   44748307|            11|\n",
            "|   33283869|             1|\n",
            "|   14670648|            21|\n",
            "|   21340218|             1|\n",
            "|   40656071|             2|\n",
            "|   26298325|             1|\n",
            "|   26074411|            11|\n",
            "|   50714860|             1|\n",
            "|   45117705|            14|\n",
            "|   43340917|            19|\n",
            "|   36560790|             2|\n",
            "|   16785445|             1|\n",
            "|   38342214|             3|\n",
            "|   10932658|             2|\n",
            "|   13976780|             1|\n",
            "+-----------+--------------+\n",
            "only showing top 20 rows\n",
            "\n"
          ]
        }
      ],
      "source": [
        "customers = df_distinct.groupby(\"customer_id\").count()\n",
        "customers = customers.withColumnRenamed(\"count\",\"customer_count\")\n",
        "customers.show()"
      ]
    },
    {
      "cell_type": "code",
      "execution_count": 15,
      "metadata": {
        "colab": {
          "base_uri": "https://localhost:8080/"
        },
        "id": "KbXk0GIGlPME",
        "outputId": "cc2a8aa8-6395-4842-fbc0-59d211f8c151"
      },
      "outputs": [
        {
          "data": {
            "text/plain": [
              "[('customer_id', 'int'), ('customer_count', 'bigint')]"
            ]
          },
          "execution_count": 15,
          "metadata": {},
          "output_type": "execute_result"
        }
      ],
      "source": [
        "customers.dtypes"
      ]
    },
    {
      "cell_type": "markdown",
      "metadata": {
        "id": "jFvJi-nUlTNL"
      },
      "source": [
        "## vine_table"
      ]
    },
    {
      "cell_type": "code",
      "execution_count": 16,
      "metadata": {
        "colab": {
          "base_uri": "https://localhost:8080/"
        },
        "id": "LphdS25nlVV0",
        "outputId": "e78128e0-97b3-460c-f29d-21c7317e4691"
      },
      "outputs": [
        {
          "name": "stdout",
          "output_type": "stream",
          "text": [
            "+--------------+-----------+-------------+-----------+----+\n",
            "|     review_id|star_rating|helpful_votes|total_votes|vine|\n",
            "+--------------+-----------+-------------+-----------+----+\n",
            "|R100EO2AQP6B02|          3|            2|          4|   N|\n",
            "|R100IITU077KKZ|          5|            0|          0|   N|\n",
            "|R100WIAVSCW4D1|          5|            3|          5|   N|\n",
            "|R1023NXBAJ0BYT|          5|            0|          0|   N|\n",
            "|R102CEVVIBXNFB|          1|            0|          2|   N|\n",
            "|R102MO11LN79HV|          5|            0|          0|   N|\n",
            "|R102TPQOB6ECI4|          3|            0|          0|   N|\n",
            "|R1032IWOCCKRV1|          1|            2|          2|   N|\n",
            "|R103QNPJX6OJ6D|          5|            1|          1|   N|\n",
            "|R104GDOC82SGT4|          5|            0|          0|   N|\n",
            "|R104OCMU5PF85T|          2|           25|         25|   N|\n",
            "|R104OIYLZ3E442|          1|            0|          0|   N|\n",
            "|R1059V5TMDI4OK|          5|          117|        121|   N|\n",
            "|R1063IMZRT6M5U|          5|            0|          0|   N|\n",
            "|R106PQ59GQR25O|          5|            0|          0|   N|\n",
            "|R106PSVF1DIS96|          3|            3|          3|   N|\n",
            "|R106WJGJO9C6QO|          2|            0|          0|   N|\n",
            "|R107YKUN3UFA9D|          5|           34|         36|   N|\n",
            "|R108VYYR4WVDJW|          5|            0|          1|   N|\n",
            "|R109MW1PSIPPGP|          5|            0|          0|   N|\n",
            "+--------------+-----------+-------------+-----------+----+\n",
            "only showing top 20 rows\n",
            "\n"
          ]
        }
      ],
      "source": [
        "vine_table = df_distinct.select(\"review_id\", \"star_rating\", \"helpful_votes\", \"total_votes\", \"vine\")\n",
        "vine_table.show()"
      ]
    },
    {
      "cell_type": "code",
      "execution_count": 17,
      "metadata": {
        "colab": {
          "base_uri": "https://localhost:8080/"
        },
        "id": "-eGV35N7lnvc",
        "outputId": "2052a9b0-47fb-423e-9185-07d4b3364741"
      },
      "outputs": [
        {
          "data": {
            "text/plain": [
              "[('review_id', 'string'),\n",
              " ('star_rating', 'int'),\n",
              " ('helpful_votes', 'int'),\n",
              " ('total_votes', 'int'),\n",
              " ('vine', 'string')]"
            ]
          },
          "execution_count": 17,
          "metadata": {},
          "output_type": "execute_result"
        }
      ],
      "source": [
        "vine_table.dtypes"
      ]
    },
    {
      "cell_type": "markdown",
      "metadata": {
        "id": "LpqBpaGmrV0c"
      },
      "source": [
        "# Database connection"
      ]
    },
    {
      "cell_type": "code",
      "execution_count": 18,
      "metadata": {
        "colab": {
          "base_uri": "https://localhost:8080/"
        },
        "id": "JQ29CWybseE0",
        "outputId": "15c991aa-1220-40e2-d05a-18a268cbbc2d"
      },
      "outputs": [
        {
          "name": "stdout",
          "output_type": "stream",
          "text": [
            "--2021-11-26 21:02:15--  https://jdbc.postgresql.org/download/postgresql-42.2.9.jar\n",
            "Resolving jdbc.postgresql.org (jdbc.postgresql.org)... 72.32.157.228, 2001:4800:3e1:1::228\n",
            "Connecting to jdbc.postgresql.org (jdbc.postgresql.org)|72.32.157.228|:443... connected.\n",
            "HTTP request sent, awaiting response... 200 OK\n",
            "Length: 914037 (893K) [application/java-archive]\n",
            "Saving to: ‘postgresql-42.2.9.jar.1’\n",
            "\n",
            "postgresql-42.2.9.j 100%[===================>] 892.61K  4.58MB/s    in 0.2s    \n",
            "\n",
            "2021-11-26 21:02:16 (4.58 MB/s) - ‘postgresql-42.2.9.jar.1’ saved [914037/914037]\n",
            "\n"
          ]
        }
      ],
      "source": [
        "!wget https://jdbc.postgresql.org/download/postgresql-42.2.9.jar"
      ]
    },
    {
      "cell_type": "code",
      "execution_count": 19,
      "metadata": {
        "id": "pKQqv4b-rZIj"
      },
      "outputs": [],
      "source": [
        "mode = \"append\"\n",
        "jdbc_url=\"jdbc:postgresql://<instance>.rds.amazonaws.com:5432/bigdatachallenge\"\n",
        "config = {\"user\":\"<user>\", \n",
        "          \"password\": \"<password>\", \n",
        "          \"driver\":\"org.postgresql.Driver\"}"
      ]
    },
    {
      "cell_type": "code",
      "execution_count": 20,
      "metadata": {
        "id": "W-GVWzPssUWl"
      },
      "outputs": [],
      "source": [
        "\n",
        "products_dist.write.jdbc(url=jdbc_url, table='products', mode=mode, properties=config)\n",
        "customers.write.jdbc(url=jdbc_url, table='customers', mode=mode, properties=config)\n",
        "vine_table.write.jdbc(url=jdbc_url, table='vine_table', mode=mode, properties=config)"
      ]
    },
    {
      "cell_type": "code",
      "execution_count": 21,
      "metadata": {
        "id": "v7a2Ys-syH1I"
      },
      "outputs": [],
      "source": [
        "review_id_table.write.jdbc(url=jdbc_url, table='review_id_table', mode=mode, properties=config)"
      ]
    }
  ],
  "metadata": {
    "colab": {
      "collapsed_sections": [],
      "name": "pet_products.ipynb",
      "provenance": []
    },
    "kernelspec": {
      "display_name": "Python 3",
      "name": "python3"
    },
    "language_info": {
      "name": "python"
    }
  },
  "nbformat": 4,
  "nbformat_minor": 0
}
